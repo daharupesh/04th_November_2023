{
 "cells": [
  {
   "cell_type": "markdown",
   "metadata": {},
   "source": [
    "Q.1 Can you explain the logic and working of the Tower of Hanoi algorithm by writing a Java program? \n",
    "\n",
    "How does the recursion work, and how are the movements of disks between rods accomplished?"
   ]
  },
  {
   "cell_type": "markdown",
   "metadata": {},
   "source": [
    "Explanation:\n",
    "\n",
    "1. Function Definition: The tower_of_hanoi function takes four parameters: n (the number of disks to be moved), source, target, and auxiliary (the names of the three rods).\n",
    "\n",
    "2. Base Case: If there is only one disk to move, it simply prints the instruction to move the disk from the source rod to the target rod and returns.\n",
    "\n",
    "3. Recursive Case: If there are more than one disk to move, it follows these steps:\n",
    "\n",
    "     - Move n-1 disks from the source rod to the auxiliary rod, using the target rod as an auxiliary.\n",
    "     - Move the remaining one disk from the source rod to the target rod.\n",
    "     - Move the n-1 disks from the auxiliary rod to the target rod, using the source rod as an auxiliary.\n",
    "4. Example Usage: In the example usage, n_disks is set to 3, and the Tower of Hanoi problem is solved for 3 disks with rods labeled as 'A', 'B', and 'C'. The function is called with these parameters."
   ]
  },
  {
   "cell_type": "code",
   "execution_count": 1,
   "metadata": {},
   "outputs": [
    {
     "name": "stdout",
     "output_type": "stream",
     "text": [
      "Move disk 1 from A to C\n",
      "Move disk 2 from A to B\n",
      "Move disk 1 from C to B\n",
      "Move disk 3 from A to C\n",
      "Move disk 1 from B to A\n",
      "Move disk 2 from B to C\n",
      "Move disk 1 from A to C\n"
     ]
    }
   ],
   "source": [
    "def tower_of_hanoi(n, source, target, auxiliary):\n",
    "    \"\"\"\n",
    "    Function to solve the Tower of Hanoi problem recursively.\n",
    "\n",
    "    Parameters:\n",
    "    n (int): Number of disks to move.\n",
    "    source (str): Name of the source rod.\n",
    "    target (str): Name of the target rod.\n",
    "    auxiliary (str): Name of the auxiliary rod.\n",
    "    \"\"\"\n",
    "\n",
    "    if n == 1:\n",
    "        print(\"Move disk 1 from {} to {}\".format(source, target))\n",
    "        return\n",
    "    # Move n-1 disks from source to auxiliary, using target as the auxiliary rod\n",
    "    tower_of_hanoi(n-1, source, auxiliary, target)\n",
    "    # Move the remaining disk from source to target\n",
    "    print(\"Move disk {} from {} to {}\".format(n, source, target))\n",
    "    # Move the n-1 disks from auxiliary to target, using source as the auxiliary rod\n",
    "    tower_of_hanoi(n-1, auxiliary, target, source)\n",
    "\n",
    "# Example usage:\n",
    "n_disks = 3\n",
    "tower_of_hanoi(n_disks, 'A', 'C', 'B')\n"
   ]
  },
  {
   "cell_type": "markdown",
   "metadata": {},
   "source": [
    "2. Q.2 Given two strings word1 and word2, return the minimum number of operations required to convert word1 \n",
    "\n",
    "to word2."
   ]
  },
  {
   "cell_type": "code",
   "execution_count": 2,
   "metadata": {},
   "outputs": [
    {
     "name": "stdout",
     "output_type": "stream",
     "text": [
      "3\n",
      "5\n"
     ]
    }
   ],
   "source": [
    "def min_distance(word1, word2):\n",
    "    m, n = len(word1), len(word2)\n",
    "\n",
    "    # Create a 2D array to store minimum operations for substrings\n",
    "    dp = [[0] * (n + 1) for _ in range(m + 1)]\n",
    "\n",
    "    # Initialize the first row and column\n",
    "    for i in range(m + 1):\n",
    "        dp[i][0] = i\n",
    "    for j in range(n + 1):\n",
    "        dp[0][j] = j\n",
    "\n",
    "    # Fill in the dp array\n",
    "    for i in range(1, m + 1):\n",
    "        for j in range(1, n + 1):\n",
    "            if word1[i - 1] == word2[j - 1]:\n",
    "                dp[i][j] = dp[i - 1][j - 1]  # No operation needed\n",
    "            else:\n",
    "                dp[i][j] = min(dp[i - 1][j - 1], dp[i - 1][j], dp[i][j - 1]) + 1\n",
    "\n",
    "    return dp[m][n]\n",
    "\n",
    "# Example usage:\n",
    "word1_1 = \"horse\"\n",
    "word2_1 = \"ros\"\n",
    "print(min_distance(word1_1, word2_1)) \n",
    "\n",
    "word1_2 = \"intention\"\n",
    "word2_2 = \"execution\"\n",
    "print(min_distance(word1_2, word2_2)) "
   ]
  },
  {
   "cell_type": "markdown",
   "metadata": {},
   "source": [
    "Q. 3 Print the max value of the array [ 13, 1, -3, 22, 5]."
   ]
  },
  {
   "cell_type": "code",
   "execution_count": 3,
   "metadata": {},
   "outputs": [
    {
     "name": "stdout",
     "output_type": "stream",
     "text": [
      "Max value: 22\n"
     ]
    }
   ],
   "source": [
    "def max_value_recursive(arr, n):\n",
    "    # Base case:\n",
    "    if n == 1:\n",
    "        return arr[0]\n",
    "    \n",
    "    # Recursive case: \n",
    "    max_rest = max_value_recursive(arr, n - 1)\n",
    "    \n",
    "    # Compare the maximum of the rest with the last element of the array\n",
    "    return max(max_rest, arr[n - 1])\n",
    "\n",
    "# driver  code:\n",
    "arr = [13, 1, -3, 22, 5]\n",
    "max_val = max_value_recursive(arr, len(arr))\n",
    "print(\"Max value:\", max_val)\n"
   ]
  },
  {
   "cell_type": "markdown",
   "metadata": {},
   "source": [
    "Q.4 Find the sum of the values of the array [92, 23, 15, -20, 10]."
   ]
  },
  {
   "cell_type": "code",
   "execution_count": 4,
   "metadata": {},
   "outputs": [
    {
     "name": "stdout",
     "output_type": "stream",
     "text": [
      "Sum of values: 120\n"
     ]
    }
   ],
   "source": [
    "def sum_array_recursive(arr, n):\n",
    "    # Base case:\n",
    "    if n == 0:\n",
    "        return 0\n",
    "    # Recursive case:\n",
    "    return arr[n - 1] + sum_array_recursive(arr, n - 1)\n",
    "\n",
    "# Driver Code:\n",
    "arr = [92, 23, 15, -20, 10]\n",
    "array_sum = sum_array_recursive(arr, len(arr))\n",
    "print(\"Sum of values:\", array_sum)\n"
   ]
  },
  {
   "cell_type": "code",
   "execution_count": 5,
   "metadata": {},
   "outputs": [
    {
     "name": "stdout",
     "output_type": "stream",
     "text": [
      "Output1: Yes\n",
      "Output2: No\n"
     ]
    }
   ],
   "source": [
    "def is_armstrong_number(n, original_n=None):\n",
    "    \"\"\"\n",
    "    Recursive function to check if a number is an Armstrong number.\n",
    "\n",
    "    Parameters:\n",
    "    - n: The number to check.\n",
    "    - original_n: The original number (used for the first call), default to None.\n",
    "\n",
    "    Returns:\n",
    "    - True if the number is an Armstrong number, False otherwise.\n",
    "    \"\"\"\n",
    "    # Recursive function to count the number of digits\n",
    "    def count_digits(num):\n",
    "        if num == 0:\n",
    "            return 0\n",
    "        return 1 + count_digits(num // 10)\n",
    "\n",
    "    # Recursive function to calculate the sum of each digit raised to the power of the total number of digits\n",
    "    def armstrong_sum(num, num_digits):\n",
    "        if num == 0:\n",
    "            return 0\n",
    "        digit = num % 10\n",
    "        return (digit ** num_digits) + armstrong_sum(num // 10, num_digits)\n",
    "\n",
    "    if original_n is None:\n",
    "        original_n = n\n",
    "\n",
    "    # Base case: if the number is 0, it's an Armstrong number\n",
    "    if n == 0:\n",
    "        return original_n == 0\n",
    "\n",
    "    # Count the number of digits in the original number\n",
    "    num_digits = count_digits(original_n)\n",
    "\n",
    "    # Calculate the sum of each digit raised to the power of the total number of digits\n",
    "    current_sum = armstrong_sum(n, num_digits)\n",
    "\n",
    "    # Check if the calculated sum is equal to the original number\n",
    "    return current_sum == original_n\n",
    "\n",
    "# Driver code:\n",
    "input_num_1 = 153\n",
    "input_num_2 = 134\n",
    "\n",
    "print(\"Output1:\", \"Yes\" if is_armstrong_number(input_num_1) else \"No\")\n",
    "print(\"Output2:\", \"Yes\" if is_armstrong_number(input_num_2) else \"No\")\n"
   ]
  },
  {
   "cell_type": "code",
   "execution_count": null,
   "metadata": {},
   "outputs": [],
   "source": []
  }
 ],
 "metadata": {
  "kernelspec": {
   "display_name": "Python 3",
   "language": "python",
   "name": "python3"
  },
  "language_info": {
   "codemirror_mode": {
    "name": "ipython",
    "version": 3
   },
   "file_extension": ".py",
   "mimetype": "text/x-python",
   "name": "python",
   "nbconvert_exporter": "python",
   "pygments_lexer": "ipython3",
   "version": "3.11.0"
  }
 },
 "nbformat": 4,
 "nbformat_minor": 2
}
